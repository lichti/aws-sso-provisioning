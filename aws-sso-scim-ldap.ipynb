{
 "cells": [
  {
   "cell_type": "markdown",
   "id": "9f7a4a04-2bb3-433b-8378-17c978c21ce6",
   "metadata": {},
   "source": [
    "# Script to provision LDAP users and groups in AWS SSO using SCIM"
   ]
  },
  {
   "cell_type": "markdown",
   "id": "61e4dfba-6d24-4bc8-a375-b7ef7dc4bf03",
   "metadata": {},
   "source": [
    "* Author: Gustavo Lichti Mendonça\n",
    "* Mail: gustavo.lichti@gmail.com\n",
    "* This Code: https://github.com/lichti/aws-sso-provisioning"
   ]
  },
  {
   "cell_type": "markdown",
   "id": "7d917c8d-ce5a-4cb8-a7a9-4c6183a31712",
   "metadata": {},
   "source": [
    "## Why i need todo this"
   ]
  },
  {
   "cell_type": "markdown",
   "id": "d7b9bad3-885f-4315-804e-08398504c91e",
   "metadata": {},
   "source": [
    "Because i have one commercial tool from Cyberark to do this and we don't support her clients when the "
   ]
  },
  {
   "cell_type": "markdown",
   "id": "a3d1e970",
   "metadata": {},
   "source": [
    "## Dependencies installing"
   ]
  },
  {
   "cell_type": "code",
   "execution_count": null,
   "id": "bba0f323",
   "metadata": {
    "tags": []
   },
   "outputs": [],
   "source": [
    "%%bash\n",
    "pip install requests\n",
    "pip install pyyaml\n",
    "pip install python-ldap"
   ]
  },
  {
   "cell_type": "markdown",
   "id": "264b38da",
   "metadata": {},
   "source": [
    "## Imports"
   ]
  },
  {
   "cell_type": "code",
   "execution_count": null,
   "id": "8af8ab39",
   "metadata": {},
   "outputs": [],
   "source": [
    "import requests\n",
    "import json\n",
    "import ldap\n",
    "import configparser"
   ]
  },
  {
   "cell_type": "markdown",
   "id": "18dda11f-540a-4b5a-add5-793e50438496",
   "metadata": {},
   "source": [
    "## Load config file with credentials"
   ]
  },
  {
   "cell_type": "markdown",
   "id": "85b03f5a-25b5-45d1-af59-8d397f284f05",
   "metadata": {},
   "source": [
    "Read more about configparser: https://docs.python.org/3/library/configparser.html\n",
    "\n",
    "Config Teamplate:\n",
    "\n",
    "```text\n",
    "[AWS-SSO-SCIM]\n",
    "base_url = https://scim.us-east-1.amazonaws.com/YOUR-AWS-SSO-ID/scim/v2/\n",
    "bearertoken = YOUR-AWS-SSO-BEARERTOKEN\n",
    "\n",
    "\n",
    "[LDAP]\n",
    "LDAP_SERVER = ldap://YOUR-LDAP-ADDRESS\n",
    "BASE_DN_AWS_SSO_GROUPS = OU=AWS-SSO,OU=PROVISIONING,OU=GROUPS,DC=foo,DC=bar,DC=local\n",
    "BASE_DN_USERS = OU=USERS,OU=GROUPS,DC=foo,DC=bar,DC=local\n",
    "LDAP_LOGIN = my-user@foo.bar.local\n",
    "LDAP_PASSWORD = MY-SUPER-STRONG-PASSWORD\n",
    "```"
   ]
  },
  {
   "cell_type": "code",
   "execution_count": null,
   "id": "a3db5fbe-3d62-4eed-a31d-7d8b37fd2e11",
   "metadata": {},
   "outputs": [],
   "source": [
    "config = configparser.ConfigParser()\n",
    "config.read('aws-sso-scim-ldap.ini')"
   ]
  },
  {
   "cell_type": "markdown",
   "id": "3b2a3cc8-0acf-4bd9-9a02-03c3fb77e2ff",
   "metadata": {
    "tags": []
   },
   "source": [
    "## LDAP CONFIG"
   ]
  },
  {
   "cell_type": "code",
   "execution_count": null,
   "id": "8e824c20-f85c-4cc6-ba62-19e58f26d60d",
   "metadata": {},
   "outputs": [],
   "source": [
    "LDAP_SERVER = config['LDAP']['LDAP_SERVER']\n",
    "LDAP_LOGIN = config['LDAP']['LDAP_LOGIN']\n",
    "LDAP_PASSWORD = config['LDAP']['LDAP_PASSWORD']"
   ]
  },
  {
   "cell_type": "markdown",
   "id": "9fd86fdf",
   "metadata": {},
   "source": [
    "## SCIM AWS SSO CONFIG"
   ]
  },
  {
   "cell_type": "markdown",
   "id": "bcbbbd2c-542f-4797-9003-54763347f217",
   "metadata": {},
   "source": [
    "Learn more about AWS SSO SCIM:\n",
    "* https://docs.aws.amazon.com/singlesignon/latest/developerguide/supported-apis.html"
   ]
  },
  {
   "cell_type": "code",
   "execution_count": null,
   "id": "67a54a16",
   "metadata": {
    "tags": []
   },
   "outputs": [],
   "source": [
    "base_url = config['AWS-SSO-SCIM']['base_url']\n",
    "bearertoken = config['AWS-SSO-SCIM']['bearertoken']\n",
    "users_url = f\"{base_url}Users\"\n",
    "headers_auth = {\"Authorization\": f\"Bearer {bearertoken}\", \"Content-type\": \"application/json\"}"
   ]
  },
  {
   "cell_type": "markdown",
   "id": "f533c53f",
   "metadata": {},
   "source": [
    "## HTTP helpers"
   ]
  },
  {
   "cell_type": "markdown",
   "id": "e04046d1-59f5-48e2-95f3-ff140762660a",
   "metadata": {},
   "source": [
    "Basic http methods helpers (get, post, put, patch, delete)\n",
    "\n",
    "Recommended reading: \n",
    "* https://datatracker.ietf.org/doc/html/rfc7231#section-4.3\n",
    "* https://datatracker.ietf.org/doc/html/rfc7644#section-3.2"
   ]
  },
  {
   "cell_type": "markdown",
   "id": "83b52c32",
   "metadata": {},
   "source": [
    "### Get"
   ]
  },
  {
   "cell_type": "code",
   "execution_count": null,
   "id": "6b9eeb20",
   "metadata": {},
   "outputs": [],
   "source": [
    "def get(path=None, params=None):\n",
    "    return requests.get(f\"{base_url}{path}\",headers=headers_auth, params=params)"
   ]
  },
  {
   "cell_type": "markdown",
   "id": "32d5a237",
   "metadata": {},
   "source": [
    "### Post"
   ]
  },
  {
   "cell_type": "code",
   "execution_count": null,
   "id": "424bbf45",
   "metadata": {},
   "outputs": [],
   "source": [
    "def post(path=None, params=None, data=None):\n",
    "    return requests.post(f\"{base_url}{path}\",headers=headers_auth, data=data)"
   ]
  },
  {
   "cell_type": "markdown",
   "id": "0916ac06",
   "metadata": {},
   "source": [
    "### Put"
   ]
  },
  {
   "cell_type": "code",
   "execution_count": null,
   "id": "32529fd0",
   "metadata": {},
   "outputs": [],
   "source": [
    "def put(path=None, params=None, data=None):\n",
    "    return requests.put(f\"{base_url}{path}\",headers=headers_auth, data=data)"
   ]
  },
  {
   "cell_type": "markdown",
   "id": "14b49841",
   "metadata": {},
   "source": [
    "### Patch"
   ]
  },
  {
   "cell_type": "code",
   "execution_count": null,
   "id": "0f0cb212",
   "metadata": {},
   "outputs": [],
   "source": [
    "def patch(path=None, params=None, data=None):\n",
    "    return requests.patch(f\"{base_url}{path}\",headers=headers_auth, data=data)"
   ]
  },
  {
   "cell_type": "markdown",
   "id": "465ccf4e",
   "metadata": {},
   "source": [
    "### Delete"
   ]
  },
  {
   "cell_type": "code",
   "execution_count": null,
   "id": "1e8fa481",
   "metadata": {},
   "outputs": [],
   "source": [
    "def delete(path=None):\n",
    "    return requests.delete(f\"{base_url}{path}\",headers=headers_auth)"
   ]
  },
  {
   "cell_type": "markdown",
   "id": "dc8e4a6c",
   "metadata": {},
   "source": [
    "## SCIM helpers"
   ]
  },
  {
   "cell_type": "markdown",
   "id": "1d8f1dad-31e7-4518-9b8b-b0f04e9bbf2e",
   "metadata": {},
   "source": [
    "Basic SCIM methods helpers\n",
    "\n",
    "Learn more abut SCIM:\n",
    "* https://datatracker.ietf.org/doc/html/rfc7642\n",
    "* https://datatracker.ietf.org/doc/html/rfc7643\n",
    "* https://datatracker.ietf.org/doc/html/rfc7644\n",
    "* https://openid.net/specs/fastfed-scim-1_0-02.html#rfc.section.4"
   ]
  },
  {
   "cell_type": "markdown",
   "id": "7f1cd6f9",
   "metadata": {},
   "source": [
    "### Users"
   ]
  },
  {
   "cell_type": "markdown",
   "id": "8bffb3b7",
   "metadata": {},
   "source": [
    "#### CreateUser"
   ]
  },
  {
   "cell_type": "markdown",
   "id": "dc40a575-0778-4ea0-b65c-6d3a1647ced5",
   "metadata": {},
   "source": [
    "https://datatracker.ietf.org/doc/html/rfc7644#section-3.3"
   ]
  },
  {
   "cell_type": "code",
   "execution_count": null,
   "id": "8c2be0e0",
   "metadata": {
    "tags": []
   },
   "outputs": [],
   "source": [
    "def createUser(userName=None,familyName=None,givenName=None,displayName=None,email=None,\n",
    "               preferredLanguage=\"en-US\",locale=\"en-US\",timezone=\"America/Sao_Paulo\",active=True):\n",
    "    if userName and familyName and givenName and displayName and email:\n",
    "        data = {\n",
    "            \"userName\": f\"{userName}\",\n",
    "            \"name\": {\n",
    "                \"familyName\": f\"{familyName}\",\n",
    "                \"givenName\": f\"{givenName}\",\n",
    "            },\n",
    "            \"displayName\": f\"{displayName}\",\n",
    "            \"emails\": [\n",
    "                {\n",
    "                    \"value\": f\"{email}\",\n",
    "                    \"type\": \"work\",\n",
    "                    \"primary\": True\n",
    "                }\n",
    "            ],\n",
    "            \"preferredLanguage\": f\"{preferredLanguage}\",\n",
    "            \"locale\": f\"{locale}\",\n",
    "            \"timezone\": f\"{timezone}\",\n",
    "            \"active\": f\"{active}\",\n",
    "        }\n",
    "        res = post(path=f\"Users\", data=json.dumps(data))\n",
    "        if res.status_code == 201:\n",
    "            return json.loads(res.text)['id']\n",
    "        else:\n",
    "            print(res.content)"
   ]
  },
  {
   "cell_type": "markdown",
   "id": "aa1e82a0",
   "metadata": {},
   "source": [
    "#### ListUsers"
   ]
  },
  {
   "cell_type": "markdown",
   "id": "cd1f5177-d21d-407c-bf79-299fe458f56b",
   "metadata": {},
   "source": [
    "https://datatracker.ietf.org/doc/html/rfc7644#section-3.4.1"
   ]
  },
  {
   "cell_type": "code",
   "execution_count": null,
   "id": "ce1738df",
   "metadata": {},
   "outputs": [],
   "source": [
    "def listUsers(params=None):\n",
    "    res = get(path='Users',params=params)\n",
    "    if res.status_code == 200:\n",
    "        users = json.loads(res.text)\n",
    "        return users"
   ]
  },
  {
   "cell_type": "markdown",
   "id": "252bee54",
   "metadata": {},
   "source": [
    "#### HasUserByUsername"
   ]
  },
  {
   "cell_type": "markdown",
   "id": "05336e21-7960-4f6e-977f-a90921937f87",
   "metadata": {},
   "source": [
    "https://datatracker.ietf.org/doc/html/rfc7644#section-3.4.1"
   ]
  },
  {
   "cell_type": "code",
   "execution_count": null,
   "id": "c94676d8",
   "metadata": {},
   "outputs": [],
   "source": [
    "def hasUserByUsername(userName=None):\n",
    "    if userName:\n",
    "        users = listUsers(f'filter=userName eq \"{userName}\"')['Resources']\n",
    "        for u in users:\n",
    "            if u['userName'] == userName:\n",
    "                return True\n",
    "    return False"
   ]
  },
  {
   "cell_type": "markdown",
   "id": "85d356c6",
   "metadata": {},
   "source": [
    "#### GetUserIDByUsername"
   ]
  },
  {
   "cell_type": "markdown",
   "id": "87b516ac-ed0d-40e8-8355-6be87f3dae53",
   "metadata": {},
   "source": [
    "https://datatracker.ietf.org/doc/html/rfc7644#section-3.4.1"
   ]
  },
  {
   "cell_type": "code",
   "execution_count": null,
   "id": "a2f666a9",
   "metadata": {},
   "outputs": [],
   "source": [
    "def getUserIDByUsername(userName=None):\n",
    "    if userName:\n",
    "        users = listUsers(f'filter=userName eq \"{userName}\"')['Resources']\n",
    "        for u in users:\n",
    "            if u['userName'] == userName:\n",
    "                return u['id']"
   ]
  },
  {
   "cell_type": "markdown",
   "id": "6b5850ae",
   "metadata": {},
   "source": [
    "#### GetUser"
   ]
  },
  {
   "cell_type": "markdown",
   "id": "2802c9d9-542f-4749-95b6-ab97d0a844a4",
   "metadata": {},
   "source": [
    "https://datatracker.ietf.org/doc/html/rfc7644#section-3.4.1"
   ]
  },
  {
   "cell_type": "code",
   "execution_count": null,
   "id": "564c3516",
   "metadata": {},
   "outputs": [],
   "source": [
    "def getUser(user_id=None):\n",
    "    if user_id:\n",
    "        res = get(path=f\"Users/{user_id}\")\n",
    "        if res.status_code == 200:\n",
    "            return json.loads(res.text)"
   ]
  },
  {
   "cell_type": "markdown",
   "id": "ff84586a",
   "metadata": {},
   "source": [
    "#### ReplaceUser"
   ]
  },
  {
   "cell_type": "markdown",
   "id": "58b6b8b9-c7da-4acf-9484-7d1c7b89305e",
   "metadata": {},
   "source": [
    "https://datatracker.ietf.org/doc/html/rfc7644#section-3.5.1"
   ]
  },
  {
   "cell_type": "code",
   "execution_count": null,
   "id": "36de3539",
   "metadata": {},
   "outputs": [],
   "source": [
    "def replaceUser(user_id=None,userName=None,familyName=None,givenName=None,displayName=None,email=None,\n",
    "               preferredLanguage=\"en-US\",locale=\"en-US\",timezone=\"America/Sao_Paulo\",active=True):\n",
    "    if user_id and userName and familyName and givenName and displayName and email:\n",
    "        data = {\n",
    "            \"id\": f\"{user_id}\",\n",
    "            \"userName\": f\"{userName}\",\n",
    "            \"name\": {\n",
    "                \"familyName\": f\"{familyName}\",\n",
    "                \"givenName\": f\"{givenName}\",\n",
    "            },\n",
    "            \"displayName\": f\"{displayName}\",\n",
    "            \"emails\": [\n",
    "                {\n",
    "                    \"value\": f\"{email}\",\n",
    "                    \"type\": \"work\",\n",
    "                    \"primary\": True\n",
    "                }\n",
    "            ],\n",
    "            \"preferredLanguage\": f\"{preferredLanguage}\",\n",
    "            \"locale\": f\"{locale}\",\n",
    "            \"timezone\": f\"{timezone}\",\n",
    "            \"active\": f\"{active}\",\n",
    "        }\n",
    "        res = put(path=f\"Users/{user_id}\", data=json.dumps(data))\n",
    "        if res.status_code == 200:\n",
    "            return json.loads(res.text)['id']\n",
    "        else:\n",
    "            print(res.content)"
   ]
  },
  {
   "cell_type": "markdown",
   "id": "b4114ffb",
   "metadata": {},
   "source": [
    "#### UpdateUser - I need improve this..."
   ]
  },
  {
   "cell_type": "markdown",
   "id": "55b80da9-a7fe-4021-8c50-3810b589b80c",
   "metadata": {},
   "source": [
    "https://datatracker.ietf.org/doc/html/rfc7644#section-3.5.2"
   ]
  },
  {
   "cell_type": "code",
   "execution_count": null,
   "id": "a4be4188",
   "metadata": {},
   "outputs": [],
   "source": [
    "def updateUser(user_id=None, data=None):\n",
    "    return json.loads(patch(path=f\"Users/{user_id}\", data=data).text)"
   ]
  },
  {
   "cell_type": "markdown",
   "id": "7493edd6",
   "metadata": {},
   "source": [
    "#### DeleteUser"
   ]
  },
  {
   "cell_type": "markdown",
   "id": "13ef5b32-e910-441b-b41c-4bd847ebd71c",
   "metadata": {},
   "source": [
    "https://datatracker.ietf.org/doc/html/rfc7644#section-3.6"
   ]
  },
  {
   "cell_type": "code",
   "execution_count": null,
   "id": "d052b068",
   "metadata": {},
   "outputs": [],
   "source": [
    "def deleteUser(user_id=None):\n",
    "    res = delete(path=f\"Users/{user_id}\")\n",
    "    if res.status_code == 204:\n",
    "        return True\n",
    "    return False"
   ]
  },
  {
   "cell_type": "markdown",
   "id": "a9ef1843",
   "metadata": {},
   "source": [
    "### Groups"
   ]
  },
  {
   "cell_type": "markdown",
   "id": "18540412",
   "metadata": {},
   "source": [
    "#### CreateGroup"
   ]
  },
  {
   "cell_type": "markdown",
   "id": "52a87e29-b057-4ae0-9ca9-438c9e2d177b",
   "metadata": {},
   "source": [
    "https://datatracker.ietf.org/doc/html/rfc7644#section-3.3"
   ]
  },
  {
   "cell_type": "code",
   "execution_count": null,
   "id": "d3fdcf58",
   "metadata": {},
   "outputs": [],
   "source": [
    "def createGroup(groupName=None):\n",
    "    if groupName:\n",
    "        data = {\"displayName\": f\"{groupName}\"}\n",
    "        res = post(path=f\"Groups\", data=json.dumps(data))\n",
    "        if res.status_code == 201:\n",
    "            return json.loads(res.text)['id']\n",
    "        else:\n",
    "            print(res.content)"
   ]
  },
  {
   "cell_type": "markdown",
   "id": "13869b37",
   "metadata": {},
   "source": [
    "#### ListGroups"
   ]
  },
  {
   "cell_type": "markdown",
   "id": "d2b71803-61e6-40ea-9358-47501eabc094",
   "metadata": {},
   "source": [
    "https://datatracker.ietf.org/doc/html/rfc7644#section-3.4.1"
   ]
  },
  {
   "cell_type": "code",
   "execution_count": null,
   "id": "b2e67cf9",
   "metadata": {},
   "outputs": [],
   "source": [
    "def listGroups(params=None):\n",
    "    res = get(path='Groups',params=params)\n",
    "    if res.status_code == 200:\n",
    "        groups = json.loads(res.text)\n",
    "        return groups"
   ]
  },
  {
   "cell_type": "markdown",
   "id": "7901e34e",
   "metadata": {},
   "source": [
    "#### HasGroupByName"
   ]
  },
  {
   "cell_type": "markdown",
   "id": "7d6639ff-be84-4b8a-a7f2-6ba4dd0c179b",
   "metadata": {},
   "source": [
    "https://datatracker.ietf.org/doc/html/rfc7644#section-3.4.1"
   ]
  },
  {
   "cell_type": "code",
   "execution_count": null,
   "id": "620f4959",
   "metadata": {},
   "outputs": [],
   "source": [
    "def hasGroupByName(groupName=None):\n",
    "    if groupName:\n",
    "        groups = listGroups(f'filter=displayName eq \"{groupName}\"')['Resources']\n",
    "        for g in groups:\n",
    "            if g['displayName'] == groupName:\n",
    "                return True\n",
    "    return False"
   ]
  },
  {
   "cell_type": "markdown",
   "id": "b8cf7981",
   "metadata": {},
   "source": [
    "#### GetGroupIDByName"
   ]
  },
  {
   "cell_type": "markdown",
   "id": "6d3131c4-5430-4a8e-8f57-d85559c6cf99",
   "metadata": {},
   "source": [
    "https://datatracker.ietf.org/doc/html/rfc7644#section-3.4.1"
   ]
  },
  {
   "cell_type": "code",
   "execution_count": null,
   "id": "e630d890",
   "metadata": {},
   "outputs": [],
   "source": [
    "def getGroupIBByName(groupName=None):\n",
    "    if groupName:\n",
    "        groups = listGroups(f'filter=displayName eq \"{groupName}\"')['Resources']\n",
    "        for g in groups:\n",
    "            if g['displayName'] == groupName:\n",
    "                return g['id']"
   ]
  },
  {
   "cell_type": "markdown",
   "id": "ec436b06",
   "metadata": {},
   "source": [
    "#### GetGroup"
   ]
  },
  {
   "cell_type": "markdown",
   "id": "e144f2dc-b59d-459b-bd8d-1ec01547fc90",
   "metadata": {},
   "source": [
    "https://datatracker.ietf.org/doc/html/rfc7644#section-3.4.1"
   ]
  },
  {
   "cell_type": "code",
   "execution_count": null,
   "id": "6b1f6a99",
   "metadata": {},
   "outputs": [],
   "source": [
    "def getGroup(group_id=None):\n",
    "    if group_id:\n",
    "        res = get(path=f\"Groups/{group_id}\")\n",
    "        if res.status_code == 200:\n",
    "            return json.loads(res.text)"
   ]
  },
  {
   "cell_type": "markdown",
   "id": "1151cdf9",
   "metadata": {},
   "source": [
    "#### UpdateGroup"
   ]
  },
  {
   "cell_type": "markdown",
   "id": "fd9476bd-e7a6-4711-967d-960283214ced",
   "metadata": {},
   "source": [
    "https://datatracker.ietf.org/doc/html/rfc7644#section-3.5.2"
   ]
  },
  {
   "cell_type": "code",
   "execution_count": null,
   "id": "92ca7169",
   "metadata": {},
   "outputs": [],
   "source": [
    "def updateGroup(group_id=None, operation=None, members=None):\n",
    "    if group_id and operation and members:\n",
    "        data = {\n",
    "            \"schemas\":[\"urn:ietf:params:scim:api:messages:2.0:PatchOp\"],\n",
    "            \"Operations\":[\n",
    "                {\n",
    "                    \"op\": f\"{operation}\",\n",
    "                    \"path\": \"members\",\n",
    "                    \"value\":[{\"value\": f\"{member}\"} for member in members]\n",
    "                }\n",
    "            ]\n",
    "        }\n",
    "        res = patch(path=f\"Groups/{group_id}\", data=json.dumps(data))\n",
    "        if res.status_code == 204:\n",
    "            return True\n",
    "        else:\n",
    "            print(res.content)\n",
    "            return False"
   ]
  },
  {
   "cell_type": "markdown",
   "id": "63b4fc7f",
   "metadata": {},
   "source": [
    "#### DeleteGroup"
   ]
  },
  {
   "cell_type": "markdown",
   "id": "7e3be8f3-cf51-404c-9c34-7210341c83de",
   "metadata": {},
   "source": [
    "https://datatracker.ietf.org/doc/html/rfc7644#section-3.6"
   ]
  },
  {
   "cell_type": "code",
   "execution_count": null,
   "id": "5390adb6",
   "metadata": {},
   "outputs": [],
   "source": [
    "def deleteGroup(group_id=None):\n",
    "    res = delete(path=f\"Groups/{group_id}\")\n",
    "    if res.status_code == 204:\n",
    "        return True\n",
    "    return False"
   ]
  },
  {
   "cell_type": "markdown",
   "id": "634e12b0-bd12-4b9a-b12e-579342675028",
   "metadata": {},
   "source": [
    "## AWS SSO SCIM SYNC WITH LDAP"
   ]
  },
  {
   "cell_type": "markdown",
   "id": "5e7b3de2-b7ac-426a-9d2a-c1529aac47d0",
   "metadata": {},
   "source": [
    "### Connect to LDAP"
   ]
  },
  {
   "cell_type": "code",
   "execution_count": null,
   "id": "f635be53-0ed8-43ec-92bf-dd2d6317baf0",
   "metadata": {},
   "outputs": [],
   "source": [
    "connect = ldap.initialize(LDAP_SERVER)\n",
    "connect.set_option(ldap.OPT_REFERRALS, 0)  # to search the object and all its descendants\n",
    "connect.simple_bind_s(LDAP_LOGIN, LDAP_PASSWORD)"
   ]
  },
  {
   "cell_type": "markdown",
   "id": "0f154054-2297-46a9-9f13-a6dca8c099ee",
   "metadata": {},
   "source": [
    "### Retrieve from LDAP all AWS SSO Provisioning Groups"
   ]
  },
  {
   "cell_type": "code",
   "execution_count": null,
   "id": "0e7736ee-b31d-4411-ad09-e16c3fedd6ac",
   "metadata": {},
   "outputs": [],
   "source": [
    "BASE_DN_AWS_SSO_GROUPS = config['LDAP']['BASE_DN_AWS_SSO_GROUPS']\n",
    "groups=connect.search_s(BASE_DN_AWS_SSO_GROUPS, ldap.SCOPE_SUBTREE, 'ObjectClass=Group', ['cn','dn'])"
   ]
  },
  {
   "cell_type": "markdown",
   "id": "86427fed-3ca3-4ea5-973c-7f13207ce153",
   "metadata": {},
   "source": [
    "### get_group_users"
   ]
  },
  {
   "cell_type": "markdown",
   "id": "5ce69f23-b07e-4caa-aeef-15e9f608ef9c",
   "metadata": {},
   "source": [
    "Method to get all nested users from groups\n",
    "\n",
    "userAccountControl codes:\n",
    "* 514 = 512 + 2\n",
    "* 546 = 512 + 32 + 2\n",
    "* 66050 = 65536 + 512 + 2\n",
    "* 66082 = 65536 + 512 + 32 + 2\n",
    "\n",
    "More:\n",
    "* 2:     ACCOUNTDISABLE\n",
    "* 32:    PASSWD_NOTREQD\n",
    "* 512:   NORMAL_ACCOUNT\n",
    "* 65536: DONT_EXPIRE_PASSWORD\n",
    "\n",
    "Read more: https://docs.microsoft.com/pt-br/troubleshoot/windows-server/identity/useraccountcontrol-manipulate-account-properties"
   ]
  },
  {
   "cell_type": "markdown",
   "id": "afa5495d-2cc3-489f-8894-297024d41fb0",
   "metadata": {},
   "source": [
    "If necesssary read more about bytestring to better undertand this section:\n",
    "* https://stackoverflow.com/questions/6224052/what-is-the-difference-between-a-string-and-a-byte-string\n",
    "* https://stackoverflow.com/questions/22824539/what-is-a-python-bytestring\n",
    "* https://stackoverflow.com/questions/606191/convert-bytes-to-a-string"
   ]
  },
  {
   "cell_type": "markdown",
   "id": "02445128-fcb0-44d8-9ace-592d92cf82b2",
   "metadata": {},
   "source": [
    "In this method, we use the LDAP OID operator to perform a nested search or a recursive search, whichever you prefer. Study more about this here: https://docs.microsoft.com/pt-br/windows/win32/adsi/search-filter-syntax#operators"
   ]
  },
  {
   "cell_type": "code",
   "execution_count": null,
   "id": "5b3de2f8-d52a-46df-addb-6d8fe09ec7af",
   "metadata": {},
   "outputs": [],
   "source": [
    "def get_group_users(conn,base_dn,dn):\n",
    "    membersOf=conn.search_s(base_dn,\n",
    "                            ldap.SCOPE_SUBTREE,\n",
    "                            f'(&(objectClass=user)(memberof:1.2.840.113556.1.4.1941:={dn}))',\n",
    "                            ['objectClass', 'userAccountControl', 'userPrincipalName', 'cn', 'mail', 'displayName', 'givenName', 'sn']\n",
    "                           )\n",
    "    members = []\n",
    "    for member in membersOf:\n",
    "        if not member[1]['userAccountControl'][0].decode('utf-8') in ['546', '66050', '66082']:\n",
    "            if member[1]['userAccountControl'][0].decode('utf-8') in ['514']:\n",
    "                member_status = False\n",
    "            else:\n",
    "                member_status = True\n",
    "            members.append({'member_dn': member[0],\n",
    "                            'member_cn': member[1]['cn'][0].decode('utf-8'),\n",
    "                            'member_mail': member[1]['mail'][0].decode('utf-8'),\n",
    "                            'member_upn': member[1]['userPrincipalName'][0].decode('utf-8'),\n",
    "                            'member_displayName': member[1]['displayName'][0].decode('utf-8'),\n",
    "                            'member_givenName': member[1]['givenName'][0].decode('utf-8'),\n",
    "                            'member_sn': member[1]['sn'][0].decode('utf-8'),\n",
    "                            'member_status': member_status,\n",
    "                            'member_userAccountControl': member[1]['userAccountControl']\n",
    "                           })\n",
    "    return members\n"
   ]
  },
  {
   "cell_type": "markdown",
   "id": "4ddf5a03-9d00-4cca-8f51-0aaea51ae55d",
   "metadata": {},
   "source": [
    "### groups_with_members  "
   ]
  },
  {
   "cell_type": "markdown",
   "id": "c0a46c93-df2d-4964-9142-9b76458badd5",
   "metadata": {},
   "source": [
    "List of all groups and their members (rich data)"
   ]
  },
  {
   "cell_type": "code",
   "execution_count": null,
   "id": "f4d2df6c-bb53-4473-ad7c-acbe53d96439",
   "metadata": {},
   "outputs": [],
   "source": [
    "BASE_DN_USERS = config['LDAP']['BASE_DN_USERS']\n",
    "groups_with_members = []\n",
    "for group in groups:\n",
    "    group_members = get_group_users(connect,BASE_DN_USERS,group[0])\n",
    "    groups_with_members.append({'group_dn': group[0],\n",
    "                        'group_cn': group[1]['cn'][0].decode('utf-8'),\n",
    "                        'group_members': group_members})\n"
   ]
  },
  {
   "cell_type": "markdown",
   "id": "dc747bac-07c3-40c3-8d9e-7880151cd47e",
   "metadata": {},
   "source": [
    "### CreateOrUpdateUser"
   ]
  },
  {
   "cell_type": "markdown",
   "id": "c7461c4b-2e67-4c59-ac46-79eb47cf48c1",
   "metadata": {},
   "source": [
    "Method for creating or updating a user by SCIM provisioning"
   ]
  },
  {
   "cell_type": "code",
   "execution_count": null,
   "id": "d325243e-b875-4aaa-ba6b-bd1864bc122b",
   "metadata": {},
   "outputs": [],
   "source": [
    "def CreateOrUpdateUser(member=None):\n",
    "    print(f\"{member['member_displayName']} => {member['member_userAccountControl']} => {member['member_status']}\")\n",
    "    if not hasUserByUsername(member['member_upn']):\n",
    "        print(f\"--> Creating user {member['member_upn']} -> {member['member_displayName']}\")\n",
    "        ID = createUser(userName=member['member_upn'],\n",
    "                        familyName=member['member_sn'],\n",
    "                        givenName=member['member_givenName'],\n",
    "                        displayName=member['member_displayName'],\n",
    "                        email=member['member_mail'],\n",
    "                        preferredLanguage=\"en-US\",\n",
    "                        locale=\"en-US\",\n",
    "                        timezone=\"America/Sao_Paulo\",\n",
    "                        active=member['member_status'])\n",
    "        if ID:\n",
    "            print(f\"----> User created: {ID}\")\n",
    "        else:\n",
    "            print(\"----> User create failed\")\n",
    "    else:\n",
    "        ID = getUserIDByUsername(member['member_upn'])\n",
    "        print(f\"--> Updating user {member['member_upn']} -> {member['member_displayName']} -> {ID}\")  \n",
    "        if replaceUser(user_id=ID,\n",
    "                       userName=member['member_upn'],\n",
    "                       familyName=member['member_sn'],\n",
    "                       givenName=member['member_givenName'],\n",
    "                       displayName=member['member_displayName'],\n",
    "                       email=member['member_mail'],\n",
    "                       preferredLanguage=\"en-US\",\n",
    "                       locale=\"en-US\",\n",
    "                       timezone=\"America/Sao_Paulo\",\n",
    "                       active=member['member_status']):\n",
    "            print(\"----> User updated\")\n",
    "        else:\n",
    "            print(\"----> User update failed\")\n",
    "    return ID"
   ]
  },
  {
   "cell_type": "markdown",
   "id": "8180796e-43f6-41b7-a7b1-df8526b0ba46",
   "metadata": {},
   "source": [
    "### listOfUsernamesToIDS"
   ]
  },
  {
   "cell_type": "markdown",
   "id": "e6640d89-fe51-432c-aa42-06209c98388e",
   "metadata": {},
   "source": [
    "Helper to create a list of IDs from a list of usernames. Need a dictionary to do the black magic to work"
   ]
  },
  {
   "cell_type": "code",
   "execution_count": null,
   "id": "76c732df-a006-412e-a8e3-693338ef6fa3",
   "metadata": {},
   "outputs": [],
   "source": [
    "def listOfUsernamesToIDS(usernames=None, usernames_dict=None):\n",
    "    IDs=[]\n",
    "    for username in usernames:\n",
    "        if username in usernames_dict:\n",
    "            IDs.append(usernames_dict[username])\n",
    "    return IDs"
   ]
  },
  {
   "cell_type": "markdown",
   "id": "e7b27c47-e530-48e1-8be3-e7c22d9a6723",
   "metadata": {},
   "source": [
    "### members_dict"
   ]
  },
  {
   "cell_type": "markdown",
   "id": "a51c6db1-b8d3-47f9-8215-be2bce622b66",
   "metadata": {},
   "source": [
    "Dict to store username => id\n",
    "\n",
    "```{'username1': 'id1', 'username2': 'id2', 'username..n': 'id..n'}```"
   ]
  },
  {
   "cell_type": "code",
   "execution_count": null,
   "id": "228e9eae-161a-4b5d-8c24-4287abbb2851",
   "metadata": {},
   "outputs": [],
   "source": [
    "members_dict={}"
   ]
  },
  {
   "cell_type": "markdown",
   "id": "5eeef13f-07b6-41a5-969d-ad0f9d51f000",
   "metadata": {},
   "source": [
    "### members_unique"
   ]
  },
  {
   "cell_type": "markdown",
   "id": "bcc930b1-cefe-4937-814b-8b35f49bc220",
   "metadata": {},
   "source": [
    "List of members dict\n",
    "\n",
    "``` [{member1}, {member2}, {member..n}] ```"
   ]
  },
  {
   "cell_type": "code",
   "execution_count": null,
   "id": "e19a71a8-a315-4759-8336-616afb87a68d",
   "metadata": {},
   "outputs": [],
   "source": [
    "members_unique=[]"
   ]
  },
  {
   "cell_type": "markdown",
   "id": "6cba7511-7cc0-45a5-b0a9-00c048e8214a",
   "metadata": {},
   "source": [
    "### Populate members_dict and members_unique"
   ]
  },
  {
   "cell_type": "code",
   "execution_count": null,
   "id": "f8e216e6-5cdf-4290-910a-75f40bf90d36",
   "metadata": {},
   "outputs": [],
   "source": [
    "total_processed=0\n",
    "for group in groups_with_members:\n",
    "    if group['group_members']:\n",
    "        for member in group['group_members']:\n",
    "            total_processed=total_processed+1\n",
    "            if not member in members_unique:\n",
    "                members_unique.append(member)\n",
    "                memberID = getUserIDByUsername(member['member_upn'])\n",
    "                members_dict[member['member_upn']]=memberID\n",
    "print(f\"Groups: {len(groups_with_members)} | Processed members: {total_processed} | Unique members: {len(members_unique)}\")\n",
    "\n"
   ]
  },
  {
   "cell_type": "markdown",
   "id": "2452e367-1f87-4114-9947-8762a72a0fed",
   "metadata": {},
   "source": [
    "### Create or Update unique members"
   ]
  },
  {
   "cell_type": "code",
   "execution_count": null,
   "id": "3750421a-f738-4327-b914-ecc6b8270271",
   "metadata": {},
   "outputs": [],
   "source": [
    "cont=0\n",
    "for member in members_unique:\n",
    "    cont = cont +1\n",
    "    print(f\">{cont}/{len(members_unique)}\")\n",
    "    CreateOrUpdateUser(member)"
   ]
  },
  {
   "cell_type": "code",
   "execution_count": null,
   "id": "405970c2-4e69-4c79-b428-ccb0411fdeb1",
   "metadata": {},
   "outputs": [],
   "source": [
    "step=0\n",
    "for group in groups_with_members:\n",
    "    step=step+1\n",
    "    group_name = group['group_cn'].upper()\n",
    "    print(f\"({step}/{len(groups_with_members)}) Working in the group: {group_name}\")\n",
    "    members=[]\n",
    "    if group['group_members']:\n",
    "        for member in group['group_members']:\n",
    "            members.append(member['member_upn'])\n",
    "    if members:\n",
    "        if hasGroupByName(group_name):\n",
    "            print(f\"--> Group exists\")\n",
    "            IDs = listOfUsernamesToIDS(members,members_dict)\n",
    "            GroupID = getGroupIBByName(group_name)\n",
    "            if updateGroup(GroupID,\"replace\",IDs):\n",
    "                print(\"----> Group members updated\")\n",
    "            else:\n",
    "                print(\"----> Group members update failed\")\n",
    "        else:\n",
    "            print(f\"--> Creating group\")\n",
    "            Group_ID = createGroup(group_name)\n",
    "            if Group_ID:\n",
    "                print(\"----> Group created\")\n",
    "                IDs = listOfUsernamesToIDS(members,members_dict)\n",
    "                if updateGroup(GroupID,\"replace\",IDs):\n",
    "                    print(\"------> Group members updated\")\n",
    "                else:\n",
    "                    print(\"------> Group members update failed\")\n",
    "            else:\n",
    "                print(\"----> Group create failed\")\n"
   ]
  }
 ],
 "metadata": {
  "kernelspec": {
   "display_name": "Python 3",
   "language": "python",
   "name": "python3"
  },
  "language_info": {
   "codemirror_mode": {
    "name": "ipython",
    "version": 3
   },
   "file_extension": ".py",
   "mimetype": "text/x-python",
   "name": "python",
   "nbconvert_exporter": "python",
   "pygments_lexer": "ipython3",
   "version": "3.8.8"
  }
 },
 "nbformat": 4,
 "nbformat_minor": 5
}
